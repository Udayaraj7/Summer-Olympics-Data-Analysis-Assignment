{
  "nbformat": 4,
  "nbformat_minor": 0,
  "metadata": {
    "colab": {
      "name": "Summer Olympics Assignment.ipynb",
      "provenance": [],
      "collapsed_sections": []
    },
    "kernelspec": {
      "name": "python3",
      "display_name": "Python 3"
    },
    "language_info": {
      "name": "python"
    }
  },
  "cells": [
    {
      "cell_type": "code",
      "metadata": {
        "id": "Plx9xJoiehkE"
      },
      "source": [
        "import numpy as np\n",
        "import matplotlib.pyplot as plt\n",
        "import seaborn as sns\n"
      ],
      "execution_count": null,
      "outputs": []
    },
    {
      "cell_type": "code",
      "metadata": {
        "id": "4eQfFbV4e500"
      },
      "source": [
        "df =pd.read_csv(\"summer.csv\")"
      ],
      "execution_count": null,
      "outputs": []
    },
    {
      "cell_type": "markdown",
      "metadata": {
        "id": "m2vZ8xnTfipo"
      },
      "source": [
        "# **Summer Olympics Data Analysis Assignment**"
      ]
    },
    {
      "cell_type": "markdown",
      "metadata": {
        "id": "DlDXg8BKf50W"
      },
      "source": [
        "### 1.In how many cities Summer Olympics is head so far?"
      ]
    },
    {
      "cell_type": "code",
      "metadata": {
        "colab": {
          "base_uri": "https://localhost:8080/"
        },
        "id": "zpUxeg-ygRdg",
        "outputId": "9327bbae-c6d8-4560-eb73-7f6690f491f9"
      },
      "source": [
        "df['City'].unique()"
      ],
      "execution_count": null,
      "outputs": [
        {
          "output_type": "execute_result",
          "data": {
            "text/plain": [
              "array(['Athens', 'Paris', 'St Louis', 'London', 'Stockholm', 'Antwerp',\n",
              "       'Amsterdam', 'Los Angeles', 'Berlin', 'Helsinki',\n",
              "       'Melbourne / Stockholm', 'Rome', 'Tokyo', 'Mexico', 'Munich',\n",
              "       'Montreal', 'Moscow', 'Seoul', 'Barcelona', 'Atlanta', 'Sydney',\n",
              "       'Beijing'], dtype=object)"
            ]
          },
          "metadata": {},
          "execution_count": 7
        }
      ]
    },
    {
      "cell_type": "code",
      "metadata": {
        "colab": {
          "base_uri": "https://localhost:8080/"
        },
        "id": "ld_eMrmngmiO",
        "outputId": "442a3368-bca9-4e32-c752-10d3e3ccf05c"
      },
      "source": [
        "len(df['City'].unique())"
      ],
      "execution_count": null,
      "outputs": [
        {
          "output_type": "execute_result",
          "data": {
            "text/plain": [
              "22"
            ]
          },
          "metadata": {},
          "execution_count": 8
        }
      ]
    },
    {
      "cell_type": "markdown",
      "metadata": {
        "id": "FP3rXHdWhPcf"
      },
      "source": [
        "### 2.Which sport is having most number of Gold Medals so far?(top5)"
      ]
    },
    {
      "cell_type": "code",
      "metadata": {
        "id": "ZRac9B6_hoNq",
        "colab": {
          "base_uri": "https://localhost:8080/"
        },
        "outputId": "3bb246f7-9acc-4eff-dce2-e00e4dc2ddc6"
      },
      "source": [
        "goldmedals =df[(df.Medal == 'Gold')]\n",
        "goldmedals.groupby('Sport').count()['Medal'].sort_values(ascending = False).head(6)"
      ],
      "execution_count": null,
      "outputs": [
        {
          "output_type": "execute_result",
          "data": {
            "text/plain": [
              "Sport\n",
              "Aquatics      1421\n",
              "Athletics     1215\n",
              "Rowing         890\n",
              "Gymnastics     820\n",
              "Fencing        552\n",
              "Football       503\n",
              "Name: Medal, dtype: int64"
            ]
          },
          "metadata": {},
          "execution_count": 9
        }
      ]
    },
    {
      "cell_type": "code",
      "metadata": {
        "id": "ScvyNydqiJlG",
        "colab": {
          "base_uri": "https://localhost:8080/",
          "height": 404
        },
        "outputId": "0098b505-c9a4-4477-9a68-5caf96658c3c"
      },
      "source": [
        "goldmedals =df[(df.Medal == 'Gold')]\n",
        "goldmedals =goldmedals.groupby('Sport').count()['Medal'].sort_values(ascending = False).head(6)\n",
        "goldmedals\n",
        "plt.figure(figsize=(12,6))\n",
        "plt.title('Sport with most no of  Gold Medals')\n",
        "sns.barplot(x = goldmedals.index,y=goldmedals,color = 'skyblue');"
      ],
      "execution_count": null,
      "outputs": [
        {
          "output_type": "display_data",
          "data": {
            "image/png": "[encoded data removed]",
            "text/plain": [
              "<Figure size 864x432 with 1 Axes>"
            ]
          },
          "metadata": {
            "needs_background": "light"
          }
        }
      ]
    },
    {
      "cell_type": "markdown",
      "metadata": {
        "id": "4SjZeEyajVu7"
      },
      "source": [
        "### 3.Which sport is having most number of  Medals so far?(top5)"
      ]
    },
    {
      "cell_type": "code",
      "metadata": {
        "id": "ISnDjONYjgPf",
        "colab": {
          "base_uri": "https://localhost:8080/"
        },
        "outputId": "c4de2b8c-f083-439c-d285-8fb7a612ecb9"
      },
      "source": [
        "Mostmedals=df.groupby('Sport').count()['Medal'].sort_values(ascending = False).head(6)\n",
        "Mostmedals"
      ],
      "execution_count": null,
      "outputs": [
        {
          "output_type": "execute_result",
          "data": {
            "text/plain": [
              "Sport\n",
              "Aquatics      4170\n",
              "Athletics     3638\n",
              "Rowing        2667\n",
              "Gymnastics    2307\n",
              "Fencing       1613\n",
              "Football      1497\n",
              "Name: Medal, dtype: int64"
            ]
          },
          "metadata": {},
          "execution_count": 13
        }
      ]
    },
    {
      "cell_type": "code",
      "metadata": {
        "colab": {
          "base_uri": "https://localhost:8080/",
          "height": 404
        },
        "id": "xYwYr3xgkQ7u",
        "outputId": "4736abef-afed-48fb-e435-95da347f0e27"
      },
      "source": [
        "Mostmedals =df.groupby('Sport').count()['Medal'].sort_values(ascending = False).head(6)\n",
        "Mostmedals\n",
        "plt.figure(figsize=(12,6))\n",
        "plt.title('Sport with most no of  Medals')\n",
        "sns.barplot(x = Mostmedals.index,y= Mostmedals,color = 'crimson');"
      ],
      "execution_count": null,
      "outputs": [
        {
          "output_type": "display_data",
          "data": {
            "image/png": "[encoded data removed]",
            "text/plain": [
              "<Figure size 864x432 with 1 Axes>"
            ]
          },
          "metadata": {
            "needs_background": "light"
          }
        }
      ]
    },
    {
      "cell_type": "markdown",
      "metadata": {
        "id": "NB03YN-qlJUC"
      },
      "source": [
        "### 4.Which player has won most number of medals? (Top 5)?"
      ]
    },
    {
      "cell_type": "code",
      "metadata": {
        "id": "nTej2LM4nS7g",
        "colab": {
          "base_uri": "https://localhost:8080/"
        },
        "outputId": "625fd013-2952-46d9-9aa8-d50513acd626"
      },
      "source": [
        "playermedals = df.groupby('Athlete').count()[\"Medal\"].sort_values(ascending = False).head(6)\n",
        "playermedals"
      ],
      "execution_count": null,
      "outputs": [
        {
          "output_type": "execute_result",
          "data": {
            "text/plain": [
              "Athlete\n",
              "PHELPS, Michael         22\n",
              "LATYNINA, Larisa        18\n",
              "ANDRIANOV, Nikolay      15\n",
              "MANGIAROTTI, Edoardo    13\n",
              "SHAKHLIN, Boris         13\n",
              "ONO, Takashi            13\n",
              "Name: Medal, dtype: int64"
            ]
          },
          "metadata": {},
          "execution_count": 17
        }
      ]
    },
    {
      "cell_type": "code",
      "metadata": {
        "colab": {
          "base_uri": "https://localhost:8080/",
          "height": 404
        },
        "id": "ZagPzDbGn4kl",
        "outputId": "2a9bf3b7-1cec-447f-a0c5-c22e067720a4"
      },
      "source": [
        "playermedals = df.groupby('Athlete').count()[\"Medal\"].sort_values(ascending = False).head(6)\n",
        "playermedals\n",
        "plt.figure(figsize=(12,6))\n",
        "plt.title('Player with most no of  Medals')\n",
        "sns.barplot(x = playermedals.index,y= playermedals,color = 'pink');\n"
      ],
      "execution_count": null,
      "outputs": [
        {
          "output_type": "display_data",
          "data": {
            "image/png": "[encoded data removed]",
            "text/plain": [
              "<Figure size 864x432 with 1 Axes>"
            ]
          },
          "metadata": {
            "needs_background": "light"
          }
        }
      ]
    },
    {
      "cell_type": "markdown",
      "metadata": {
        "id": "DWg4283I4-0G"
      },
      "source": [
        "### 5. Which player has won most number Gold Medals of medals? (Top 5)"
      ]
    },
    {
      "cell_type": "code",
      "metadata": {
        "id": "Cev3JU3q5a9m",
        "colab": {
          "base_uri": "https://localhost:8080/"
        },
        "outputId": "93f009b9-056b-4862-8c67-56da55f80c10"
      },
      "source": [
        "goldmedal = df[(df.Medal == 'Gold')]\n",
        "goldmedal = goldmedal.groupby('Athlete').count()['Medal'].sort_values(ascending = False).head(6)\n",
        "goldmedal"
      ],
      "execution_count": null,
      "outputs": [
        {
          "output_type": "execute_result",
          "data": {
            "text/plain": [
              "Athlete\n",
              "PHELPS, Michael     18\n",
              "NURMI, Paavo         9\n",
              "SPITZ, Mark          9\n",
              "LEWIS, Carl          9\n",
              "LATYNINA, Larisa     9\n",
              "FISCHER, Birgit      8\n",
              "Name: Medal, dtype: int64"
            ]
          },
          "metadata": {},
          "execution_count": 25
        }
      ]
    },
    {
      "cell_type": "code",
      "metadata": {
        "colab": {
          "base_uri": "https://localhost:8080/",
          "height": 187
        },
        "id": "Om0RjmGP573H",
        "outputId": "8ca8bc49-466a-4745-8e98-ed56bc89e696"
      },
      "source": [
        "goldmedal = df[(df.Medal == 'Gold')]\n",
        "goldmedal = goldmedal.groupby('Athlete').count()['Medal'].sort_values(ascending = False).head(6)\n",
        "goldmedal\n",
        "plt.figure(figsize=(10,2))\n",
        "plt.title('Player with most no of Gold Medals')\n",
        "sns.barplot(x = goldmedal.index,y= goldmedal,color = 'lightgreen');"
      ],
      "execution_count": null,
      "outputs": [
        {
          "output_type": "display_data",
          "data": {
            "image/png": "[encoded data removed]",
            "text/plain": [
              "<Figure size 720x144 with 1 Axes>"
            ]
          },
          "metadata": {
            "needs_background": "light"
          }
        }
      ]
    },
    {
      "cell_type": "markdown",
      "metadata": {
        "id": "p05J0bCJ7IMg"
      },
      "source": [
        "### 6. In which year India won first Gold Medal in Summer Olympics?"
      ]
    },
    {
      "cell_type": "code",
      "metadata": {
        "colab": {
          "base_uri": "https://localhost:8080/",
          "height": 205
        },
        "id": "P_fr2JRa7QZW",
        "outputId": "b522b439-757c-42a2-a60d-cb783d415e5b"
      },
      "source": [
        "df.query('Country == \"IND\"').head()"
      ],
      "execution_count": null,
      "outputs": [
        {
          "output_type": "execute_result",
          "data": {
            "text/html": [
              "<div>\n",
              "<style scoped>\n",
              "    .dataframe tbody tr th:only-of-type {\n",
              "        vertical-align: middle;\n",
              "    }\n",
              "\n",
              "    .dataframe tbody tr th {\n",
              "        vertical-align: top;\n",
              "    }\n",
              "\n",
              "    .dataframe thead th {\n",
              "        text-align: right;\n",
              "    }\n",
              "</style>\n",
              "<table border=\"1\" class=\"dataframe\">\n",
              "  <thead>\n",
              "    <tr style=\"text-align: right;\">\n",
              "      <th></th>\n",
              "      <th>Year</th>\n",
              "      <th>City</th>\n",
              "      <th>Sport</th>\n",
              "      <th>Discipline</th>\n",
              "      <th>Athlete</th>\n",
              "      <th>Country</th>\n",
              "      <th>Gender</th>\n",
              "      <th>Event</th>\n",
              "      <th>Medal</th>\n",
              "    </tr>\n",
              "  </thead>\n",
              "  <tbody>\n",
              "    <tr>\n",
              "      <th>241</th>\n",
              "      <td>1900</td>\n",
              "      <td>Paris</td>\n",
              "      <td>Athletics</td>\n",
              "      <td>Athletics</td>\n",
              "      <td>PRITCHARD, Norman</td>\n",
              "      <td>IND</td>\n",
              "      <td>Men</td>\n",
              "      <td>200M</td>\n",
              "      <td>Silver</td>\n",
              "    </tr>\n",
              "    <tr>\n",
              "      <th>244</th>\n",
              "      <td>1900</td>\n",
              "      <td>Paris</td>\n",
              "      <td>Athletics</td>\n",
              "      <td>Athletics</td>\n",
              "      <td>PRITCHARD, Norman</td>\n",
              "      <td>IND</td>\n",
              "      <td>Men</td>\n",
              "      <td>200M Hurdles</td>\n",
              "      <td>Silver</td>\n",
              "    </tr>\n",
              "    <tr>\n",
              "      <th>5512</th>\n",
              "      <td>1928</td>\n",
              "      <td>Amsterdam</td>\n",
              "      <td>Hockey</td>\n",
              "      <td>Hockey</td>\n",
              "      <td>ALLEN, Richard James</td>\n",
              "      <td>IND</td>\n",
              "      <td>Men</td>\n",
              "      <td>Hockey</td>\n",
              "      <td>Gold</td>\n",
              "    </tr>\n",
              "    <tr>\n",
              "      <th>5513</th>\n",
              "      <td>1928</td>\n",
              "      <td>Amsterdam</td>\n",
              "      <td>Hockey</td>\n",
              "      <td>Hockey</td>\n",
              "      <td>CHAND, Dyan</td>\n",
              "      <td>IND</td>\n",
              "      <td>Men</td>\n",
              "      <td>Hockey</td>\n",
              "      <td>Gold</td>\n",
              "    </tr>\n",
              "    <tr>\n",
              "      <th>5514</th>\n",
              "      <td>1928</td>\n",
              "      <td>Amsterdam</td>\n",
              "      <td>Hockey</td>\n",
              "      <td>Hockey</td>\n",
              "      <td>GATELEY, Maurice A.</td>\n",
              "      <td>IND</td>\n",
              "      <td>Men</td>\n",
              "      <td>Hockey</td>\n",
              "      <td>Gold</td>\n",
              "    </tr>\n",
              "  </tbody>\n",
              "</table>\n",
              "</div>"
            ],
            "text/plain": [
              "      Year       City      Sport  ... Gender         Event   Medal\n",
              "241   1900      Paris  Athletics  ...    Men          200M  Silver\n",
              "244   1900      Paris  Athletics  ...    Men  200M Hurdles  Silver\n",
              "5512  1928  Amsterdam     Hockey  ...    Men        Hockey    Gold\n",
              "5513  1928  Amsterdam     Hockey  ...    Men        Hockey    Gold\n",
              "5514  1928  Amsterdam     Hockey  ...    Men        Hockey    Gold\n",
              "\n",
              "[5 rows x 9 columns]"
            ]
          },
          "metadata": {},
          "execution_count": 35
        }
      ]
    },
    {
      "cell_type": "code",
      "metadata": {
        "colab": {
          "base_uri": "https://localhost:8080/"
        },
        "id": "vY8OOpaU7gqW",
        "outputId": "d8d5f13f-87e6-4fcb-b548-c15333bae9d9"
      },
      "source": [
        "ind = df[(df.Country == 'IND') & (df.Medal == 'Gold')]\n",
        "y = ind['Year'].head(1)\n",
        "y"
      ],
      "execution_count": null,
      "outputs": [
        {
          "output_type": "execute_result",
          "data": {
            "text/plain": [
              "5512    1928\n",
              "Name: Year, dtype: int64"
            ]
          },
          "metadata": {},
          "execution_count": 36
        }
      ]
    },
    {
      "cell_type": "markdown",
      "metadata": {
        "id": "nmS0fHc08DdX"
      },
      "source": [
        "## 7. Which event is most popular in terms on number of players? (Top 5)"
      ]
    },
    {
      "cell_type": "code",
      "metadata": {
        "colab": {
          "base_uri": "https://localhost:8080/"
        },
        "id": "YXfbuhIQ8m9s",
        "outputId": "b283b784-a3d9-487e-bd88-e94ff7ef29bb"
      },
      "source": [
        "propular = df.groupby('Event').count()['Athlete'].sort_values(ascending=False).head(6)\n",
        "popular"
      ],
      "execution_count": null,
      "outputs": [
        {
          "output_type": "execute_result",
          "data": {
            "text/plain": [
              "Event\n",
              "Football            1497\n",
              "Hockey              1422\n",
              "Team Competition    1147\n",
              "Basketball          1012\n",
              "Handball             973\n",
              "Water Polo           958\n",
              "Name: Athlete, dtype: int64"
            ]
          },
          "metadata": {},
          "execution_count": 40
        }
      ]
    },
    {
      "cell_type": "code",
      "metadata": {
        "colab": {
          "base_uri": "https://localhost:8080/",
          "height": 404
        },
        "id": "948pif329BiA",
        "outputId": "f3dd0198-53d1-4923-ea0f-1d9030bcfd8d"
      },
      "source": [
        "propular = df.groupby('Event').count()['Athlete'].sort_values(ascending=False).head(6)\n",
        "popular\n",
        "plt.figure(figsize=(10,6))\n",
        "plt.title('Popular event in terms on number of players')\n",
        "sns.barplot(x = popular.index,y= popular,color = 'dodgerblue');"
      ],
      "execution_count": 83,
      "outputs": [
        {
          "output_type": "display_data",
          "data": {
            "image/png": "[encoded data removed]",
            "text/plain": [
              "<Figure size 720x432 with 1 Axes>"
            ]
          },
          "metadata": {
            "needs_background": "light"
          }
        }
      ]
    },
    {
      "cell_type": "markdown",
      "metadata": {
        "id": "OTGDDamB-lws"
      },
      "source": [
        "## 8. Which sport is having most female Gold Medalists? (Top 5)"
      ]
    },
    {
      "cell_type": "code",
      "metadata": {
        "id": "KHhPd72U-vo2",
        "colab": {
          "base_uri": "https://localhost:8080/"
        },
        "outputId": "bf2ee244-bc50-4346-8b87-556c5e71f7cb"
      },
      "source": [
        "FGM = df[(df.Medal == 'Gold') & (df.Gender =='Women')]\n",
        "FGM = FGM.groupby('Sport').count()['Medal'].sort_values(ascending = False).head(6)\n",
        "FGM"
      ],
      "execution_count": null,
      "outputs": [
        {
          "output_type": "execute_result",
          "data": {
            "text/plain": [
              "Sport\n",
              "Aquatics      589\n",
              "Athletics     389\n",
              "Gymnastics    268\n",
              "Rowing        217\n",
              "Volleyball    166\n",
              "Hockey        144\n",
              "Name: Medal, dtype: int64"
            ]
          },
          "metadata": {},
          "execution_count": 54
        }
      ]
    },
    {
      "cell_type": "code",
      "metadata": {
        "colab": {
          "base_uri": "https://localhost:8080/",
          "height": 404
        },
        "id": "pT4XTx5J_Wes",
        "outputId": "0a63739e-24c8-4cf7-ad0f-1a5c7850fdad"
      },
      "source": [
        "FGM = df[(df.Medal == 'Gold') & (df.Gender =='Women')]\n",
        "FGM = FGM.groupby('Sport').count()['Medal'].sort_values(ascending = False).head(6)\n",
        "FGM\n",
        "plt.figure(figsize=(10,6))\n",
        "plt.title('Sport with most female Gold Medalists')\n",
        "sns.barplot(x = FGM.index,y= FGM,color = 'aqua');"
      ],
      "execution_count": 84,
      "outputs": [
        {
          "output_type": "display_data",
          "data": {
            "image/png": "[encoded data removed]",
            "text/plain": [
              "<Figure size 720x432 with 1 Axes>"
            ]
          },
          "metadata": {
            "needs_background": "light"
          }
        }
      ]
    }
  ]
}